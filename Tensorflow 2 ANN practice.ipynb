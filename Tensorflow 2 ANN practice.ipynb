{
 "cells": [
  {
   "cell_type": "code",
   "execution_count": 28,
   "metadata": {},
   "outputs": [],
   "source": [
    "import pandas as pd\n",
    "import numpy as np\n",
    "import matplotlib.pyplot as plt\n",
    "from sklearn.model_selection import train_test_split\n",
    "from sklearn.metrics import mean_squared_error\n",
    "from sklearn.preprocessing import MinMaxScaler\n",
    "import tensorflow as tf\n",
    "from tensorflow.keras.models import Sequential\n",
    "from tensorflow.keras.layers import Dense, Dropout, Activation\n",
    "from tensorflow.keras.callbacks import EarlyStopping\n",
    "import seaborn as sns"
   ]
  },
  {
   "cell_type": "code",
   "execution_count": 767,
   "metadata": {},
   "outputs": [
    {
     "data": {
      "text/html": [
       "<div>\n",
       "<style scoped>\n",
       "    .dataframe tbody tr th:only-of-type {\n",
       "        vertical-align: middle;\n",
       "    }\n",
       "\n",
       "    .dataframe tbody tr th {\n",
       "        vertical-align: top;\n",
       "    }\n",
       "\n",
       "    .dataframe thead th {\n",
       "        text-align: right;\n",
       "    }\n",
       "</style>\n",
       "<table border=\"1\" class=\"dataframe\">\n",
       "  <thead>\n",
       "    <tr style=\"text-align: right;\">\n",
       "      <th></th>\n",
       "      <th>UID</th>\n",
       "      <th>Name</th>\n",
       "      <th>NationID</th>\n",
       "      <th>Born</th>\n",
       "      <th>Age</th>\n",
       "      <th>IntCaps</th>\n",
       "      <th>IntGoals</th>\n",
       "      <th>U21Caps</th>\n",
       "      <th>U21Goals</th>\n",
       "      <th>Height</th>\n",
       "      <th>...</th>\n",
       "      <th>AttackingMidRight</th>\n",
       "      <th>DefenderCentral</th>\n",
       "      <th>DefenderLeft</th>\n",
       "      <th>DefenderRight</th>\n",
       "      <th>DefensiveMidfielder</th>\n",
       "      <th>MidfielderCentral</th>\n",
       "      <th>MidfielderLeft</th>\n",
       "      <th>MidfielderRight</th>\n",
       "      <th>WingBackLeft</th>\n",
       "      <th>WingBackRight</th>\n",
       "    </tr>\n",
       "  </thead>\n",
       "  <tbody>\n",
       "    <tr>\n",
       "      <th>0</th>\n",
       "      <td>1000055</td>\n",
       "      <td>Wilfred Bamnjo</td>\n",
       "      <td>11</td>\n",
       "      <td>27-03-1980</td>\n",
       "      <td>36</td>\n",
       "      <td>0</td>\n",
       "      <td>0</td>\n",
       "      <td>0</td>\n",
       "      <td>0</td>\n",
       "      <td>178</td>\n",
       "      <td>...</td>\n",
       "      <td>1</td>\n",
       "      <td>1</td>\n",
       "      <td>1</td>\n",
       "      <td>1</td>\n",
       "      <td>20</td>\n",
       "      <td>11</td>\n",
       "      <td>1</td>\n",
       "      <td>1</td>\n",
       "      <td>1</td>\n",
       "      <td>1</td>\n",
       "    </tr>\n",
       "    <tr>\n",
       "      <th>1</th>\n",
       "      <td>1000331</td>\n",
       "      <td>Wang Wei</td>\n",
       "      <td>110</td>\n",
       "      <td>20-02-1982</td>\n",
       "      <td>34</td>\n",
       "      <td>0</td>\n",
       "      <td>0</td>\n",
       "      <td>0</td>\n",
       "      <td>0</td>\n",
       "      <td>188</td>\n",
       "      <td>...</td>\n",
       "      <td>1</td>\n",
       "      <td>1</td>\n",
       "      <td>1</td>\n",
       "      <td>1</td>\n",
       "      <td>1</td>\n",
       "      <td>1</td>\n",
       "      <td>1</td>\n",
       "      <td>1</td>\n",
       "      <td>1</td>\n",
       "      <td>1</td>\n",
       "    </tr>\n",
       "    <tr>\n",
       "      <th>2</th>\n",
       "      <td>1000334</td>\n",
       "      <td>Liu Yang</td>\n",
       "      <td>110</td>\n",
       "      <td>11-04-1982</td>\n",
       "      <td>34</td>\n",
       "      <td>0</td>\n",
       "      <td>0</td>\n",
       "      <td>0</td>\n",
       "      <td>0</td>\n",
       "      <td>183</td>\n",
       "      <td>...</td>\n",
       "      <td>1</td>\n",
       "      <td>1</td>\n",
       "      <td>1</td>\n",
       "      <td>1</td>\n",
       "      <td>20</td>\n",
       "      <td>1</td>\n",
       "      <td>1</td>\n",
       "      <td>1</td>\n",
       "      <td>1</td>\n",
       "      <td>1</td>\n",
       "    </tr>\n",
       "    <tr>\n",
       "      <th>3</th>\n",
       "      <td>1000337</td>\n",
       "      <td>Song Qi</td>\n",
       "      <td>110</td>\n",
       "      <td>07-04-1985</td>\n",
       "      <td>31</td>\n",
       "      <td>0</td>\n",
       "      <td>0</td>\n",
       "      <td>0</td>\n",
       "      <td>0</td>\n",
       "      <td>170</td>\n",
       "      <td>...</td>\n",
       "      <td>1</td>\n",
       "      <td>1</td>\n",
       "      <td>1</td>\n",
       "      <td>1</td>\n",
       "      <td>1</td>\n",
       "      <td>1</td>\n",
       "      <td>1</td>\n",
       "      <td>1</td>\n",
       "      <td>1</td>\n",
       "      <td>1</td>\n",
       "    </tr>\n",
       "    <tr>\n",
       "      <th>4</th>\n",
       "      <td>1000340</td>\n",
       "      <td>Chen Lei</td>\n",
       "      <td>110</td>\n",
       "      <td>20-01-1983</td>\n",
       "      <td>33</td>\n",
       "      <td>0</td>\n",
       "      <td>0</td>\n",
       "      <td>0</td>\n",
       "      <td>0</td>\n",
       "      <td>181</td>\n",
       "      <td>...</td>\n",
       "      <td>1</td>\n",
       "      <td>1</td>\n",
       "      <td>1</td>\n",
       "      <td>1</td>\n",
       "      <td>1</td>\n",
       "      <td>1</td>\n",
       "      <td>1</td>\n",
       "      <td>1</td>\n",
       "      <td>1</td>\n",
       "      <td>1</td>\n",
       "    </tr>\n",
       "  </tbody>\n",
       "</table>\n",
       "<p>5 rows × 89 columns</p>\n",
       "</div>"
      ],
      "text/plain": [
       "       UID            Name  NationID        Born  Age  IntCaps  IntGoals  \\\n",
       "0  1000055  Wilfred Bamnjo        11  27-03-1980   36        0         0   \n",
       "1  1000331        Wang Wei       110  20-02-1982   34        0         0   \n",
       "2  1000334        Liu Yang       110  11-04-1982   34        0         0   \n",
       "3  1000337         Song Qi       110  07-04-1985   31        0         0   \n",
       "4  1000340        Chen Lei       110  20-01-1983   33        0         0   \n",
       "\n",
       "   U21Caps  U21Goals  Height  ...  AttackingMidRight  DefenderCentral  \\\n",
       "0        0         0     178  ...                  1                1   \n",
       "1        0         0     188  ...                  1                1   \n",
       "2        0         0     183  ...                  1                1   \n",
       "3        0         0     170  ...                  1                1   \n",
       "4        0         0     181  ...                  1                1   \n",
       "\n",
       "   DefenderLeft  DefenderRight  DefensiveMidfielder  MidfielderCentral  \\\n",
       "0             1              1                   20                 11   \n",
       "1             1              1                    1                  1   \n",
       "2             1              1                   20                  1   \n",
       "3             1              1                    1                  1   \n",
       "4             1              1                    1                  1   \n",
       "\n",
       "   MidfielderLeft  MidfielderRight  WingBackLeft  WingBackRight  \n",
       "0               1                1             1              1  \n",
       "1               1                1             1              1  \n",
       "2               1                1             1              1  \n",
       "3               1                1             1              1  \n",
       "4               1                1             1              1  \n",
       "\n",
       "[5 rows x 89 columns]"
      ]
     },
     "execution_count": 767,
     "metadata": {},
     "output_type": "execute_result"
    }
   ],
   "source": [
    "df = pd.read_csv('../csv/football_players.csv')\n",
    "df.head()"
   ]
  },
  {
   "cell_type": "code",
   "execution_count": 768,
   "metadata": {},
   "outputs": [
    {
     "data": {
      "text/plain": [
       "(159541, 56)"
      ]
     },
     "execution_count": 768,
     "metadata": {},
     "output_type": "execute_result"
    }
   ],
   "source": [
    "df = df.drop(['UID', 'Name', 'NationID', 'Born', 'IntCaps', 'IntGoals', 'U21Caps', 'U21Goals', 'PositionsDesc',\n",
    "              'Consistency', 'Dirtiness', 'ImportantMatches', 'InjuryProness', 'Versatility', 'Adaptability', \n",
    "              'Ambition', 'Loyalty', 'Pressure', 'Professional', 'Sportsmanship', 'Temperament','Controversy', \n",
    "              'AerialAbility','CommandOfArea', 'Communication', 'Eccentricity', 'Handling', 'Kicking',\n",
    "              'OneOnOnes', 'Reflexes', 'RushingOut', 'TendencyToPunch', 'Throwing'], axis=1)\n",
    "df.shape"
   ]
  },
  {
   "cell_type": "code",
   "execution_count": 769,
   "metadata": {
    "scrolled": true
   },
   "outputs": [
    {
     "data": {
      "text/plain": [
       "(159541, 56)"
      ]
     },
     "execution_count": 769,
     "metadata": {},
     "output_type": "execute_result"
    }
   ],
   "source": [
    "filt_dm = (df['DefensiveMidfielder'] == 20)\n",
    "filt_wbl = (df['WingBackLeft'] == 20)\n",
    "filt_wbr = (df['WingBackRight'] == 20)\n",
    "\n",
    "df.loc[filt_dm, ['MidfielderCentral']] = 20\n",
    "df.loc[filt_wbl, ['DefenderLeft']] = 20\n",
    "df.loc[filt_wbr, ['DefenderRight']] = 20\n",
    "\n",
    "df.shape"
   ]
  },
  {
   "cell_type": "code",
   "execution_count": 770,
   "metadata": {
    "scrolled": true
   },
   "outputs": [
    {
     "data": {
      "text/html": [
       "<div>\n",
       "<style scoped>\n",
       "    .dataframe tbody tr th:only-of-type {\n",
       "        vertical-align: middle;\n",
       "    }\n",
       "\n",
       "    .dataframe tbody tr th {\n",
       "        vertical-align: top;\n",
       "    }\n",
       "\n",
       "    .dataframe thead th {\n",
       "        text-align: right;\n",
       "    }\n",
       "</style>\n",
       "<table border=\"1\" class=\"dataframe\">\n",
       "  <thead>\n",
       "    <tr style=\"text-align: right;\">\n",
       "      <th></th>\n",
       "      <th>Age</th>\n",
       "      <th>Height</th>\n",
       "      <th>Weight</th>\n",
       "      <th>Corners</th>\n",
       "      <th>Crossing</th>\n",
       "      <th>Dribbling</th>\n",
       "      <th>Finishing</th>\n",
       "      <th>FirstTouch</th>\n",
       "      <th>Freekicks</th>\n",
       "      <th>Heading</th>\n",
       "      <th>...</th>\n",
       "      <th>AttackingMidRight</th>\n",
       "      <th>DefenderCentral</th>\n",
       "      <th>DefenderLeft</th>\n",
       "      <th>DefenderRight</th>\n",
       "      <th>DefensiveMidfielder</th>\n",
       "      <th>MidfielderCentral</th>\n",
       "      <th>MidfielderLeft</th>\n",
       "      <th>MidfielderRight</th>\n",
       "      <th>WingBackLeft</th>\n",
       "      <th>WingBackRight</th>\n",
       "    </tr>\n",
       "  </thead>\n",
       "  <tbody>\n",
       "    <tr>\n",
       "      <th>0</th>\n",
       "      <td>36</td>\n",
       "      <td>178</td>\n",
       "      <td>79</td>\n",
       "      <td>3</td>\n",
       "      <td>8</td>\n",
       "      <td>6</td>\n",
       "      <td>9</td>\n",
       "      <td>12</td>\n",
       "      <td>4</td>\n",
       "      <td>4</td>\n",
       "      <td>...</td>\n",
       "      <td>1</td>\n",
       "      <td>1</td>\n",
       "      <td>1</td>\n",
       "      <td>1</td>\n",
       "      <td>20</td>\n",
       "      <td>20</td>\n",
       "      <td>1</td>\n",
       "      <td>1</td>\n",
       "      <td>1</td>\n",
       "      <td>1</td>\n",
       "    </tr>\n",
       "    <tr>\n",
       "      <th>1</th>\n",
       "      <td>34</td>\n",
       "      <td>188</td>\n",
       "      <td>90</td>\n",
       "      <td>3</td>\n",
       "      <td>1</td>\n",
       "      <td>2</td>\n",
       "      <td>3</td>\n",
       "      <td>1</td>\n",
       "      <td>6</td>\n",
       "      <td>1</td>\n",
       "      <td>...</td>\n",
       "      <td>1</td>\n",
       "      <td>1</td>\n",
       "      <td>1</td>\n",
       "      <td>1</td>\n",
       "      <td>1</td>\n",
       "      <td>1</td>\n",
       "      <td>1</td>\n",
       "      <td>1</td>\n",
       "      <td>1</td>\n",
       "      <td>1</td>\n",
       "    </tr>\n",
       "    <tr>\n",
       "      <th>2</th>\n",
       "      <td>34</td>\n",
       "      <td>183</td>\n",
       "      <td>70</td>\n",
       "      <td>3</td>\n",
       "      <td>3</td>\n",
       "      <td>2</td>\n",
       "      <td>4</td>\n",
       "      <td>10</td>\n",
       "      <td>3</td>\n",
       "      <td>1</td>\n",
       "      <td>...</td>\n",
       "      <td>1</td>\n",
       "      <td>1</td>\n",
       "      <td>1</td>\n",
       "      <td>1</td>\n",
       "      <td>20</td>\n",
       "      <td>20</td>\n",
       "      <td>1</td>\n",
       "      <td>1</td>\n",
       "      <td>1</td>\n",
       "      <td>1</td>\n",
       "    </tr>\n",
       "    <tr>\n",
       "      <th>3</th>\n",
       "      <td>31</td>\n",
       "      <td>170</td>\n",
       "      <td>65</td>\n",
       "      <td>3</td>\n",
       "      <td>2</td>\n",
       "      <td>6</td>\n",
       "      <td>7</td>\n",
       "      <td>9</td>\n",
       "      <td>3</td>\n",
       "      <td>13</td>\n",
       "      <td>...</td>\n",
       "      <td>1</td>\n",
       "      <td>1</td>\n",
       "      <td>1</td>\n",
       "      <td>1</td>\n",
       "      <td>1</td>\n",
       "      <td>1</td>\n",
       "      <td>1</td>\n",
       "      <td>1</td>\n",
       "      <td>1</td>\n",
       "      <td>1</td>\n",
       "    </tr>\n",
       "    <tr>\n",
       "      <th>4</th>\n",
       "      <td>33</td>\n",
       "      <td>181</td>\n",
       "      <td>70</td>\n",
       "      <td>1</td>\n",
       "      <td>1</td>\n",
       "      <td>2</td>\n",
       "      <td>12</td>\n",
       "      <td>5</td>\n",
       "      <td>1</td>\n",
       "      <td>12</td>\n",
       "      <td>...</td>\n",
       "      <td>1</td>\n",
       "      <td>1</td>\n",
       "      <td>1</td>\n",
       "      <td>1</td>\n",
       "      <td>1</td>\n",
       "      <td>1</td>\n",
       "      <td>1</td>\n",
       "      <td>1</td>\n",
       "      <td>1</td>\n",
       "      <td>1</td>\n",
       "    </tr>\n",
       "  </tbody>\n",
       "</table>\n",
       "<p>5 rows × 56 columns</p>\n",
       "</div>"
      ],
      "text/plain": [
       "   Age  Height  Weight  Corners  Crossing  Dribbling  Finishing  FirstTouch  \\\n",
       "0   36     178      79        3         8          6          9          12   \n",
       "1   34     188      90        3         1          2          3           1   \n",
       "2   34     183      70        3         3          2          4          10   \n",
       "3   31     170      65        3         2          6          7           9   \n",
       "4   33     181      70        1         1          2         12           5   \n",
       "\n",
       "   Freekicks  Heading  ...  AttackingMidRight  DefenderCentral  DefenderLeft  \\\n",
       "0          4        4  ...                  1                1             1   \n",
       "1          6        1  ...                  1                1             1   \n",
       "2          3        1  ...                  1                1             1   \n",
       "3          3       13  ...                  1                1             1   \n",
       "4          1       12  ...                  1                1             1   \n",
       "\n",
       "   DefenderRight  DefensiveMidfielder  MidfielderCentral  MidfielderLeft  \\\n",
       "0              1                   20                 20               1   \n",
       "1              1                    1                  1               1   \n",
       "2              1                   20                 20               1   \n",
       "3              1                    1                  1               1   \n",
       "4              1                    1                  1               1   \n",
       "\n",
       "   MidfielderRight  WingBackLeft  WingBackRight  \n",
       "0                1             1              1  \n",
       "1                1             1              1  \n",
       "2                1             1              1  \n",
       "3                1             1              1  \n",
       "4                1             1              1  \n",
       "\n",
       "[5 rows x 56 columns]"
      ]
     },
     "execution_count": 770,
     "metadata": {},
     "output_type": "execute_result"
    }
   ],
   "source": [
    "df.head()"
   ]
  },
  {
   "cell_type": "code",
   "execution_count": 771,
   "metadata": {},
   "outputs": [
    {
     "data": {
      "text/plain": [
       "(142411, 56)"
      ]
     },
     "execution_count": 771,
     "metadata": {},
     "output_type": "execute_result"
    }
   ],
   "source": [
    "df = df.drop(df[df.Goalkeeper == 20].index)\n",
    "df.shape"
   ]
  },
  {
   "cell_type": "code",
   "execution_count": 772,
   "metadata": {},
   "outputs": [
    {
     "data": {
      "text/plain": [
       "(142157, 56)"
      ]
     },
     "execution_count": 772,
     "metadata": {},
     "output_type": "execute_result"
    }
   ],
   "source": [
    "df = df.drop(df[df.Sweeper == 20].index)\n",
    "df.shape"
   ]
  },
  {
   "cell_type": "code",
   "execution_count": 773,
   "metadata": {},
   "outputs": [
    {
     "data": {
      "text/plain": [
       "(142157, 51)"
      ]
     },
     "execution_count": 773,
     "metadata": {},
     "output_type": "execute_result"
    }
   ],
   "source": [
    "df = df.drop(['Goalkeeper', 'Sweeper', 'DefensiveMidfielder', 'WingBackLeft', 'WingBackRight'], axis=1)\n",
    "df.shape"
   ]
  },
  {
   "cell_type": "code",
   "execution_count": null,
   "metadata": {},
   "outputs": [],
   "source": []
  },
  {
   "cell_type": "code",
   "execution_count": 774,
   "metadata": {},
   "outputs": [],
   "source": [
    "pos_list = ['Striker', 'AttackingMidCentral',\n",
    "       'AttackingMidLeft', 'AttackingMidRight', 'DefenderCentral',\n",
    "       'DefenderLeft', 'DefenderRight',\n",
    "       'MidfielderCentral', 'MidfielderLeft', 'MidfielderRight']"
   ]
  },
  {
   "cell_type": "code",
   "execution_count": 780,
   "metadata": {},
   "outputs": [],
   "source": [
    "# df_pos_arr = []\n",
    "\n",
    "# for row in range(df.shape[0]):\n",
    "    \n",
    "#     pos_ind = int(np.where(df.iloc[row, -10:].values == 20)[0][0])\n",
    "#     df_pos_arr.append(pos_list[pos_ind])\n"
   ]
  },
  {
   "cell_type": "code",
   "execution_count": 782,
   "metadata": {},
   "outputs": [
    {
     "data": {
      "text/plain": [
       "['MidfielderCentral',\n",
       " 'MidfielderCentral',\n",
       " 'Striker',\n",
       " 'Striker',\n",
       " 'DefenderRight',\n",
       " 'MidfielderCentral',\n",
       " 'MidfielderRight',\n",
       " 'DefenderCentral',\n",
       " 'AttackingMidCentral',\n",
       " 'MidfielderCentral']"
      ]
     },
     "execution_count": 782,
     "metadata": {},
     "output_type": "execute_result"
    }
   ],
   "source": [
    "df_pos_arr[0:10]"
   ]
  },
  {
   "cell_type": "code",
   "execution_count": 783,
   "metadata": {},
   "outputs": [
    {
     "data": {
      "text/plain": [
       "(142157, 51)"
      ]
     },
     "execution_count": 783,
     "metadata": {},
     "output_type": "execute_result"
    }
   ],
   "source": [
    "df.shape"
   ]
  },
  {
   "cell_type": "code",
   "execution_count": 784,
   "metadata": {},
   "outputs": [
    {
     "data": {
      "text/plain": [
       "142157"
      ]
     },
     "execution_count": 784,
     "metadata": {},
     "output_type": "execute_result"
    }
   ],
   "source": [
    "len(df_pos_arr)\n"
   ]
  },
  {
   "cell_type": "code",
   "execution_count": 785,
   "metadata": {},
   "outputs": [
    {
     "data": {
      "text/html": [
       "<div>\n",
       "<style scoped>\n",
       "    .dataframe tbody tr th:only-of-type {\n",
       "        vertical-align: middle;\n",
       "    }\n",
       "\n",
       "    .dataframe tbody tr th {\n",
       "        vertical-align: top;\n",
       "    }\n",
       "\n",
       "    .dataframe thead th {\n",
       "        text-align: right;\n",
       "    }\n",
       "</style>\n",
       "<table border=\"1\" class=\"dataframe\">\n",
       "  <thead>\n",
       "    <tr style=\"text-align: right;\">\n",
       "      <th></th>\n",
       "      <th>Age</th>\n",
       "      <th>Height</th>\n",
       "      <th>Weight</th>\n",
       "      <th>Corners</th>\n",
       "      <th>Crossing</th>\n",
       "      <th>Dribbling</th>\n",
       "      <th>Finishing</th>\n",
       "      <th>FirstTouch</th>\n",
       "      <th>Freekicks</th>\n",
       "      <th>Heading</th>\n",
       "      <th>...</th>\n",
       "      <th>Striker</th>\n",
       "      <th>AttackingMidCentral</th>\n",
       "      <th>AttackingMidLeft</th>\n",
       "      <th>AttackingMidRight</th>\n",
       "      <th>DefenderCentral</th>\n",
       "      <th>DefenderLeft</th>\n",
       "      <th>DefenderRight</th>\n",
       "      <th>MidfielderCentral</th>\n",
       "      <th>MidfielderLeft</th>\n",
       "      <th>MidfielderRight</th>\n",
       "    </tr>\n",
       "  </thead>\n",
       "  <tbody>\n",
       "    <tr>\n",
       "      <th>0</th>\n",
       "      <td>36</td>\n",
       "      <td>178</td>\n",
       "      <td>79</td>\n",
       "      <td>3</td>\n",
       "      <td>8</td>\n",
       "      <td>6</td>\n",
       "      <td>9</td>\n",
       "      <td>12</td>\n",
       "      <td>4</td>\n",
       "      <td>4</td>\n",
       "      <td>...</td>\n",
       "      <td>1</td>\n",
       "      <td>1</td>\n",
       "      <td>1</td>\n",
       "      <td>1</td>\n",
       "      <td>1</td>\n",
       "      <td>1</td>\n",
       "      <td>1</td>\n",
       "      <td>20</td>\n",
       "      <td>1</td>\n",
       "      <td>1</td>\n",
       "    </tr>\n",
       "    <tr>\n",
       "      <th>2</th>\n",
       "      <td>34</td>\n",
       "      <td>183</td>\n",
       "      <td>70</td>\n",
       "      <td>3</td>\n",
       "      <td>3</td>\n",
       "      <td>2</td>\n",
       "      <td>4</td>\n",
       "      <td>10</td>\n",
       "      <td>3</td>\n",
       "      <td>1</td>\n",
       "      <td>...</td>\n",
       "      <td>1</td>\n",
       "      <td>1</td>\n",
       "      <td>1</td>\n",
       "      <td>1</td>\n",
       "      <td>1</td>\n",
       "      <td>1</td>\n",
       "      <td>1</td>\n",
       "      <td>20</td>\n",
       "      <td>1</td>\n",
       "      <td>1</td>\n",
       "    </tr>\n",
       "    <tr>\n",
       "      <th>3</th>\n",
       "      <td>31</td>\n",
       "      <td>170</td>\n",
       "      <td>65</td>\n",
       "      <td>3</td>\n",
       "      <td>2</td>\n",
       "      <td>6</td>\n",
       "      <td>7</td>\n",
       "      <td>9</td>\n",
       "      <td>3</td>\n",
       "      <td>13</td>\n",
       "      <td>...</td>\n",
       "      <td>20</td>\n",
       "      <td>1</td>\n",
       "      <td>1</td>\n",
       "      <td>1</td>\n",
       "      <td>1</td>\n",
       "      <td>1</td>\n",
       "      <td>1</td>\n",
       "      <td>1</td>\n",
       "      <td>1</td>\n",
       "      <td>1</td>\n",
       "    </tr>\n",
       "    <tr>\n",
       "      <th>4</th>\n",
       "      <td>33</td>\n",
       "      <td>181</td>\n",
       "      <td>70</td>\n",
       "      <td>1</td>\n",
       "      <td>1</td>\n",
       "      <td>2</td>\n",
       "      <td>12</td>\n",
       "      <td>5</td>\n",
       "      <td>1</td>\n",
       "      <td>12</td>\n",
       "      <td>...</td>\n",
       "      <td>20</td>\n",
       "      <td>1</td>\n",
       "      <td>1</td>\n",
       "      <td>1</td>\n",
       "      <td>1</td>\n",
       "      <td>1</td>\n",
       "      <td>1</td>\n",
       "      <td>1</td>\n",
       "      <td>1</td>\n",
       "      <td>1</td>\n",
       "    </tr>\n",
       "    <tr>\n",
       "      <th>5</th>\n",
       "      <td>31</td>\n",
       "      <td>175</td>\n",
       "      <td>68</td>\n",
       "      <td>3</td>\n",
       "      <td>5</td>\n",
       "      <td>4</td>\n",
       "      <td>1</td>\n",
       "      <td>7</td>\n",
       "      <td>1</td>\n",
       "      <td>2</td>\n",
       "      <td>...</td>\n",
       "      <td>1</td>\n",
       "      <td>1</td>\n",
       "      <td>1</td>\n",
       "      <td>1</td>\n",
       "      <td>1</td>\n",
       "      <td>1</td>\n",
       "      <td>20</td>\n",
       "      <td>1</td>\n",
       "      <td>1</td>\n",
       "      <td>1</td>\n",
       "    </tr>\n",
       "  </tbody>\n",
       "</table>\n",
       "<p>5 rows × 51 columns</p>\n",
       "</div>"
      ],
      "text/plain": [
       "   Age  Height  Weight  Corners  Crossing  Dribbling  Finishing  FirstTouch  \\\n",
       "0   36     178      79        3         8          6          9          12   \n",
       "2   34     183      70        3         3          2          4          10   \n",
       "3   31     170      65        3         2          6          7           9   \n",
       "4   33     181      70        1         1          2         12           5   \n",
       "5   31     175      68        3         5          4          1           7   \n",
       "\n",
       "   Freekicks  Heading  ...  Striker  AttackingMidCentral  AttackingMidLeft  \\\n",
       "0          4        4  ...        1                    1                 1   \n",
       "2          3        1  ...        1                    1                 1   \n",
       "3          3       13  ...       20                    1                 1   \n",
       "4          1       12  ...       20                    1                 1   \n",
       "5          1        2  ...        1                    1                 1   \n",
       "\n",
       "   AttackingMidRight  DefenderCentral  DefenderLeft  DefenderRight  \\\n",
       "0                  1                1             1              1   \n",
       "2                  1                1             1              1   \n",
       "3                  1                1             1              1   \n",
       "4                  1                1             1              1   \n",
       "5                  1                1             1             20   \n",
       "\n",
       "   MidfielderCentral  MidfielderLeft  MidfielderRight  \n",
       "0                 20               1                1  \n",
       "2                 20               1                1  \n",
       "3                  1               1                1  \n",
       "4                  1               1                1  \n",
       "5                  1               1                1  \n",
       "\n",
       "[5 rows x 51 columns]"
      ]
     },
     "execution_count": 785,
     "metadata": {},
     "output_type": "execute_result"
    }
   ],
   "source": [
    "df.head()"
   ]
  },
  {
   "cell_type": "code",
   "execution_count": 788,
   "metadata": {},
   "outputs": [],
   "source": [
    "df = df.reset_index()"
   ]
  },
  {
   "cell_type": "code",
   "execution_count": 789,
   "metadata": {},
   "outputs": [
    {
     "data": {
      "text/plain": [
       "(142157, 53)"
      ]
     },
     "execution_count": 789,
     "metadata": {},
     "output_type": "execute_result"
    }
   ],
   "source": [
    "df = pd.concat([df, pd.Series(df_pos_arr)], axis=1)\n",
    "df.shape\n"
   ]
  },
  {
   "cell_type": "code",
   "execution_count": 791,
   "metadata": {},
   "outputs": [
    {
     "data": {
      "text/html": [
       "<div>\n",
       "<style scoped>\n",
       "    .dataframe tbody tr th:only-of-type {\n",
       "        vertical-align: middle;\n",
       "    }\n",
       "\n",
       "    .dataframe tbody tr th {\n",
       "        vertical-align: top;\n",
       "    }\n",
       "\n",
       "    .dataframe thead th {\n",
       "        text-align: right;\n",
       "    }\n",
       "</style>\n",
       "<table border=\"1\" class=\"dataframe\">\n",
       "  <thead>\n",
       "    <tr style=\"text-align: right;\">\n",
       "      <th></th>\n",
       "      <th>index</th>\n",
       "      <th>Age</th>\n",
       "      <th>Height</th>\n",
       "      <th>Weight</th>\n",
       "      <th>Corners</th>\n",
       "      <th>Crossing</th>\n",
       "      <th>Dribbling</th>\n",
       "      <th>Finishing</th>\n",
       "      <th>FirstTouch</th>\n",
       "      <th>Freekicks</th>\n",
       "      <th>...</th>\n",
       "      <th>AttackingMidCentral</th>\n",
       "      <th>AttackingMidLeft</th>\n",
       "      <th>AttackingMidRight</th>\n",
       "      <th>DefenderCentral</th>\n",
       "      <th>DefenderLeft</th>\n",
       "      <th>DefenderRight</th>\n",
       "      <th>MidfielderCentral</th>\n",
       "      <th>MidfielderLeft</th>\n",
       "      <th>MidfielderRight</th>\n",
       "      <th>Position</th>\n",
       "    </tr>\n",
       "  </thead>\n",
       "  <tbody>\n",
       "    <tr>\n",
       "      <th>0</th>\n",
       "      <td>0</td>\n",
       "      <td>36</td>\n",
       "      <td>178</td>\n",
       "      <td>79</td>\n",
       "      <td>3</td>\n",
       "      <td>8</td>\n",
       "      <td>6</td>\n",
       "      <td>9</td>\n",
       "      <td>12</td>\n",
       "      <td>4</td>\n",
       "      <td>...</td>\n",
       "      <td>1</td>\n",
       "      <td>1</td>\n",
       "      <td>1</td>\n",
       "      <td>1</td>\n",
       "      <td>1</td>\n",
       "      <td>1</td>\n",
       "      <td>20</td>\n",
       "      <td>1</td>\n",
       "      <td>1</td>\n",
       "      <td>MidfielderCentral</td>\n",
       "    </tr>\n",
       "    <tr>\n",
       "      <th>1</th>\n",
       "      <td>2</td>\n",
       "      <td>34</td>\n",
       "      <td>183</td>\n",
       "      <td>70</td>\n",
       "      <td>3</td>\n",
       "      <td>3</td>\n",
       "      <td>2</td>\n",
       "      <td>4</td>\n",
       "      <td>10</td>\n",
       "      <td>3</td>\n",
       "      <td>...</td>\n",
       "      <td>1</td>\n",
       "      <td>1</td>\n",
       "      <td>1</td>\n",
       "      <td>1</td>\n",
       "      <td>1</td>\n",
       "      <td>1</td>\n",
       "      <td>20</td>\n",
       "      <td>1</td>\n",
       "      <td>1</td>\n",
       "      <td>MidfielderCentral</td>\n",
       "    </tr>\n",
       "    <tr>\n",
       "      <th>2</th>\n",
       "      <td>3</td>\n",
       "      <td>31</td>\n",
       "      <td>170</td>\n",
       "      <td>65</td>\n",
       "      <td>3</td>\n",
       "      <td>2</td>\n",
       "      <td>6</td>\n",
       "      <td>7</td>\n",
       "      <td>9</td>\n",
       "      <td>3</td>\n",
       "      <td>...</td>\n",
       "      <td>1</td>\n",
       "      <td>1</td>\n",
       "      <td>1</td>\n",
       "      <td>1</td>\n",
       "      <td>1</td>\n",
       "      <td>1</td>\n",
       "      <td>1</td>\n",
       "      <td>1</td>\n",
       "      <td>1</td>\n",
       "      <td>Striker</td>\n",
       "    </tr>\n",
       "    <tr>\n",
       "      <th>3</th>\n",
       "      <td>4</td>\n",
       "      <td>33</td>\n",
       "      <td>181</td>\n",
       "      <td>70</td>\n",
       "      <td>1</td>\n",
       "      <td>1</td>\n",
       "      <td>2</td>\n",
       "      <td>12</td>\n",
       "      <td>5</td>\n",
       "      <td>1</td>\n",
       "      <td>...</td>\n",
       "      <td>1</td>\n",
       "      <td>1</td>\n",
       "      <td>1</td>\n",
       "      <td>1</td>\n",
       "      <td>1</td>\n",
       "      <td>1</td>\n",
       "      <td>1</td>\n",
       "      <td>1</td>\n",
       "      <td>1</td>\n",
       "      <td>Striker</td>\n",
       "    </tr>\n",
       "    <tr>\n",
       "      <th>4</th>\n",
       "      <td>5</td>\n",
       "      <td>31</td>\n",
       "      <td>175</td>\n",
       "      <td>68</td>\n",
       "      <td>3</td>\n",
       "      <td>5</td>\n",
       "      <td>4</td>\n",
       "      <td>1</td>\n",
       "      <td>7</td>\n",
       "      <td>1</td>\n",
       "      <td>...</td>\n",
       "      <td>1</td>\n",
       "      <td>1</td>\n",
       "      <td>1</td>\n",
       "      <td>1</td>\n",
       "      <td>1</td>\n",
       "      <td>20</td>\n",
       "      <td>1</td>\n",
       "      <td>1</td>\n",
       "      <td>1</td>\n",
       "      <td>DefenderRight</td>\n",
       "    </tr>\n",
       "  </tbody>\n",
       "</table>\n",
       "<p>5 rows × 53 columns</p>\n",
       "</div>"
      ],
      "text/plain": [
       "   index  Age  Height  Weight  Corners  Crossing  Dribbling  Finishing  \\\n",
       "0      0   36     178      79        3         8          6          9   \n",
       "1      2   34     183      70        3         3          2          4   \n",
       "2      3   31     170      65        3         2          6          7   \n",
       "3      4   33     181      70        1         1          2         12   \n",
       "4      5   31     175      68        3         5          4          1   \n",
       "\n",
       "   FirstTouch  Freekicks  ...  AttackingMidCentral  AttackingMidLeft  \\\n",
       "0          12          4  ...                    1                 1   \n",
       "1          10          3  ...                    1                 1   \n",
       "2           9          3  ...                    1                 1   \n",
       "3           5          1  ...                    1                 1   \n",
       "4           7          1  ...                    1                 1   \n",
       "\n",
       "   AttackingMidRight  DefenderCentral  DefenderLeft  DefenderRight  \\\n",
       "0                  1                1             1              1   \n",
       "1                  1                1             1              1   \n",
       "2                  1                1             1              1   \n",
       "3                  1                1             1              1   \n",
       "4                  1                1             1             20   \n",
       "\n",
       "   MidfielderCentral  MidfielderLeft  MidfielderRight           Position  \n",
       "0                 20               1                1  MidfielderCentral  \n",
       "1                 20               1                1  MidfielderCentral  \n",
       "2                  1               1                1            Striker  \n",
       "3                  1               1                1            Striker  \n",
       "4                  1               1                1      DefenderRight  \n",
       "\n",
       "[5 rows x 53 columns]"
      ]
     },
     "execution_count": 791,
     "metadata": {},
     "output_type": "execute_result"
    }
   ],
   "source": [
    "df = df.rename(columns={0:'Position'})\n",
    "df.head()"
   ]
  },
  {
   "cell_type": "code",
   "execution_count": 792,
   "metadata": {},
   "outputs": [
    {
     "data": {
      "text/plain": [
       "Index(['index', 'Age', 'Height', 'Weight', 'Corners', 'Crossing', 'Dribbling',\n",
       "       'Finishing', 'FirstTouch', 'Freekicks', 'Heading', 'LongShots',\n",
       "       'Longthrows', 'Marking', 'Passing', 'PenaltyTaking', 'Tackling',\n",
       "       'Technique', 'Aggression', 'Anticipation', 'Bravery', 'Composure',\n",
       "       'Concentration', 'Vision', 'Decisions', 'Determination', 'Flair',\n",
       "       'Leadership', 'OffTheBall', 'Positioning', 'Teamwork', 'Workrate',\n",
       "       'Acceleration', 'Agility', 'Balance', 'Jumping', 'LeftFoot',\n",
       "       'NaturalFitness', 'Pace', 'RightFoot', 'Stamina', 'Strength', 'Striker',\n",
       "       'AttackingMidCentral', 'AttackingMidLeft', 'AttackingMidRight',\n",
       "       'DefenderCentral', 'DefenderLeft', 'DefenderRight', 'MidfielderCentral',\n",
       "       'MidfielderLeft', 'MidfielderRight', 'Position'],\n",
       "      dtype='object')"
      ]
     },
     "execution_count": 792,
     "metadata": {},
     "output_type": "execute_result"
    }
   ],
   "source": [
    "df.columns"
   ]
  },
  {
   "cell_type": "code",
   "execution_count": 793,
   "metadata": {},
   "outputs": [
    {
     "data": {
      "text/plain": [
       "(142157, 43)"
      ]
     },
     "execution_count": 793,
     "metadata": {},
     "output_type": "execute_result"
    }
   ],
   "source": [
    "df = df.drop(['Striker',\n",
    "       'AttackingMidCentral', 'AttackingMidLeft', 'AttackingMidRight',\n",
    "       'DefenderCentral', 'DefenderLeft', 'DefenderRight', 'MidfielderCentral',\n",
    "       'MidfielderLeft', 'MidfielderRight'], axis=1)\n",
    "df.shape"
   ]
  },
  {
   "cell_type": "code",
   "execution_count": 794,
   "metadata": {},
   "outputs": [
    {
     "data": {
      "text/plain": [
       "<matplotlib.axes._subplots.AxesSubplot at 0x22d97c881d0>"
      ]
     },
     "execution_count": 794,
     "metadata": {},
     "output_type": "execute_result"
    },
    {
     "data": {
      "image/png": "[encoded data removed]",
      "text/plain": [
       "<Figure size 720x432 with 1 Axes>"
      ]
     },
     "metadata": {
      "needs_background": "light"
     },
     "output_type": "display_data"
    }
   ],
   "source": [
    "plt.figure(figsize=(10, 6))\n",
    "sns.countplot(df['Age'], palette='coolwarm')\n"
   ]
  },
  {
   "cell_type": "code",
   "execution_count": 795,
   "metadata": {},
   "outputs": [
    {
     "data": {
      "text/plain": [
       "(138823, 43)"
      ]
     },
     "execution_count": 795,
     "metadata": {},
     "output_type": "execute_result"
    }
   ],
   "source": [
    "df = df.drop((df[df['Age'] > 35].index))\n",
    "df.shape"
   ]
  },
  {
   "cell_type": "code",
   "execution_count": 796,
   "metadata": {},
   "outputs": [
    {
     "data": {
      "text/plain": [
       "(125855, 43)"
      ]
     },
     "execution_count": 796,
     "metadata": {},
     "output_type": "execute_result"
    }
   ],
   "source": [
    "df = df.drop((df[df['Age'] < 17].index))\n",
    "df.shape"
   ]
  },
  {
   "cell_type": "code",
   "execution_count": 797,
   "metadata": {},
   "outputs": [
    {
     "data": {
      "text/plain": [
       "<matplotlib.axes._subplots.AxesSubplot at 0x22d8428f208>"
      ]
     },
     "execution_count": 797,
     "metadata": {},
     "output_type": "execute_result"
    },
    {
     "data": {
      "image/png": "[encoded data removed]",
      "text/plain": [
       "<Figure size 720x432 with 1 Axes>"
      ]
     },
     "metadata": {
      "needs_background": "light"
     },
     "output_type": "display_data"
    }
   ],
   "source": [
    "plt.figure(figsize=(10, 6))\n",
    "sns.countplot(df['Age'], palette='coolwarm')\n"
   ]
  },
  {
   "cell_type": "code",
   "execution_count": 798,
   "metadata": {},
   "outputs": [
    {
     "data": {
      "text/plain": [
       "Index(['index', 'Age', 'Height', 'Weight', 'Corners', 'Crossing', 'Dribbling',\n",
       "       'Finishing', 'FirstTouch', 'Freekicks', 'Heading', 'LongShots',\n",
       "       'Longthrows', 'Marking', 'Passing', 'PenaltyTaking', 'Tackling',\n",
       "       'Technique', 'Aggression', 'Anticipation', 'Bravery', 'Composure',\n",
       "       'Concentration', 'Vision', 'Decisions', 'Determination', 'Flair',\n",
       "       'Leadership', 'OffTheBall', 'Positioning', 'Teamwork', 'Workrate',\n",
       "       'Acceleration', 'Agility', 'Balance', 'Jumping', 'LeftFoot',\n",
       "       'NaturalFitness', 'Pace', 'RightFoot', 'Stamina', 'Strength',\n",
       "       'Position'],\n",
       "      dtype='object')"
      ]
     },
     "execution_count": 798,
     "metadata": {},
     "output_type": "execute_result"
    }
   ],
   "source": [
    "df.columns"
   ]
  },
  {
   "cell_type": "code",
   "execution_count": 801,
   "metadata": {},
   "outputs": [
    {
     "data": {
      "text/plain": [
       "(125855, 42)"
      ]
     },
     "execution_count": 801,
     "metadata": {},
     "output_type": "execute_result"
    }
   ],
   "source": [
    "df = df.drop('index', axis=1)\n",
    "df.shape"
   ]
  },
  {
   "cell_type": "code",
   "execution_count": 815,
   "metadata": {
    "scrolled": true
   },
   "outputs": [
    {
     "data": {
      "text/html": [
       "<div>\n",
       "<style scoped>\n",
       "    .dataframe tbody tr th:only-of-type {\n",
       "        vertical-align: middle;\n",
       "    }\n",
       "\n",
       "    .dataframe tbody tr th {\n",
       "        vertical-align: top;\n",
       "    }\n",
       "\n",
       "    .dataframe thead th {\n",
       "        text-align: right;\n",
       "    }\n",
       "</style>\n",
       "<table border=\"1\" class=\"dataframe\">\n",
       "  <thead>\n",
       "    <tr style=\"text-align: right;\">\n",
       "      <th></th>\n",
       "      <th>Age</th>\n",
       "      <th>Height</th>\n",
       "      <th>Weight</th>\n",
       "      <th>Corners</th>\n",
       "      <th>Crossing</th>\n",
       "      <th>Dribbling</th>\n",
       "      <th>Finishing</th>\n",
       "      <th>FirstTouch</th>\n",
       "      <th>Freekicks</th>\n",
       "      <th>Heading</th>\n",
       "      <th>...</th>\n",
       "      <th>Agility</th>\n",
       "      <th>Balance</th>\n",
       "      <th>Jumping</th>\n",
       "      <th>LeftFoot</th>\n",
       "      <th>NaturalFitness</th>\n",
       "      <th>Pace</th>\n",
       "      <th>RightFoot</th>\n",
       "      <th>Stamina</th>\n",
       "      <th>Strength</th>\n",
       "      <th>Position</th>\n",
       "    </tr>\n",
       "  </thead>\n",
       "  <tbody>\n",
       "    <tr>\n",
       "      <th>1</th>\n",
       "      <td>34</td>\n",
       "      <td>183</td>\n",
       "      <td>70</td>\n",
       "      <td>3</td>\n",
       "      <td>3</td>\n",
       "      <td>2</td>\n",
       "      <td>4</td>\n",
       "      <td>10</td>\n",
       "      <td>3</td>\n",
       "      <td>1</td>\n",
       "      <td>...</td>\n",
       "      <td>4</td>\n",
       "      <td>4</td>\n",
       "      <td>8</td>\n",
       "      <td>5</td>\n",
       "      <td>8</td>\n",
       "      <td>6</td>\n",
       "      <td>20</td>\n",
       "      <td>4</td>\n",
       "      <td>9</td>\n",
       "      <td>MidfielderCentral</td>\n",
       "    </tr>\n",
       "    <tr>\n",
       "      <th>2</th>\n",
       "      <td>31</td>\n",
       "      <td>170</td>\n",
       "      <td>65</td>\n",
       "      <td>3</td>\n",
       "      <td>2</td>\n",
       "      <td>6</td>\n",
       "      <td>7</td>\n",
       "      <td>9</td>\n",
       "      <td>3</td>\n",
       "      <td>13</td>\n",
       "      <td>...</td>\n",
       "      <td>7</td>\n",
       "      <td>2</td>\n",
       "      <td>6</td>\n",
       "      <td>2</td>\n",
       "      <td>8</td>\n",
       "      <td>7</td>\n",
       "      <td>20</td>\n",
       "      <td>6</td>\n",
       "      <td>6</td>\n",
       "      <td>Striker</td>\n",
       "    </tr>\n",
       "    <tr>\n",
       "      <th>3</th>\n",
       "      <td>33</td>\n",
       "      <td>181</td>\n",
       "      <td>70</td>\n",
       "      <td>1</td>\n",
       "      <td>1</td>\n",
       "      <td>2</td>\n",
       "      <td>12</td>\n",
       "      <td>5</td>\n",
       "      <td>1</td>\n",
       "      <td>12</td>\n",
       "      <td>...</td>\n",
       "      <td>4</td>\n",
       "      <td>2</td>\n",
       "      <td>6</td>\n",
       "      <td>5</td>\n",
       "      <td>5</td>\n",
       "      <td>8</td>\n",
       "      <td>20</td>\n",
       "      <td>2</td>\n",
       "      <td>5</td>\n",
       "      <td>Striker</td>\n",
       "    </tr>\n",
       "    <tr>\n",
       "      <th>4</th>\n",
       "      <td>31</td>\n",
       "      <td>175</td>\n",
       "      <td>68</td>\n",
       "      <td>3</td>\n",
       "      <td>5</td>\n",
       "      <td>4</td>\n",
       "      <td>1</td>\n",
       "      <td>7</td>\n",
       "      <td>1</td>\n",
       "      <td>2</td>\n",
       "      <td>...</td>\n",
       "      <td>6</td>\n",
       "      <td>2</td>\n",
       "      <td>7</td>\n",
       "      <td>5</td>\n",
       "      <td>9</td>\n",
       "      <td>9</td>\n",
       "      <td>20</td>\n",
       "      <td>11</td>\n",
       "      <td>7</td>\n",
       "      <td>DefenderRight</td>\n",
       "    </tr>\n",
       "    <tr>\n",
       "      <th>5</th>\n",
       "      <td>32</td>\n",
       "      <td>176</td>\n",
       "      <td>72</td>\n",
       "      <td>9</td>\n",
       "      <td>11</td>\n",
       "      <td>11</td>\n",
       "      <td>6</td>\n",
       "      <td>12</td>\n",
       "      <td>7</td>\n",
       "      <td>7</td>\n",
       "      <td>...</td>\n",
       "      <td>10</td>\n",
       "      <td>12</td>\n",
       "      <td>6</td>\n",
       "      <td>9</td>\n",
       "      <td>12</td>\n",
       "      <td>8</td>\n",
       "      <td>20</td>\n",
       "      <td>13</td>\n",
       "      <td>8</td>\n",
       "      <td>MidfielderCentral</td>\n",
       "    </tr>\n",
       "  </tbody>\n",
       "</table>\n",
       "<p>5 rows × 42 columns</p>\n",
       "</div>"
      ],
      "text/plain": [
       "   Age  Height  Weight  Corners  Crossing  Dribbling  Finishing  FirstTouch  \\\n",
       "1   34     183      70        3         3          2          4          10   \n",
       "2   31     170      65        3         2          6          7           9   \n",
       "3   33     181      70        1         1          2         12           5   \n",
       "4   31     175      68        3         5          4          1           7   \n",
       "5   32     176      72        9        11         11          6          12   \n",
       "\n",
       "   Freekicks  Heading  ...  Agility  Balance  Jumping  LeftFoot  \\\n",
       "1          3        1  ...        4        4        8         5   \n",
       "2          3       13  ...        7        2        6         2   \n",
       "3          1       12  ...        4        2        6         5   \n",
       "4          1        2  ...        6        2        7         5   \n",
       "5          7        7  ...       10       12        6         9   \n",
       "\n",
       "   NaturalFitness  Pace  RightFoot  Stamina  Strength           Position  \n",
       "1               8     6         20        4         9  MidfielderCentral  \n",
       "2               8     7         20        6         6            Striker  \n",
       "3               5     8         20        2         5            Striker  \n",
       "4               9     9         20       11         7      DefenderRight  \n",
       "5              12     8         20       13         8  MidfielderCentral  \n",
       "\n",
       "[5 rows x 42 columns]"
      ]
     },
     "execution_count": 815,
     "metadata": {},
     "output_type": "execute_result"
    }
   ],
   "source": [
    "df.head()"
   ]
  },
  {
   "cell_type": "code",
   "execution_count": 836,
   "metadata": {},
   "outputs": [],
   "source": [
    "from sklearn.preprocessing import LabelEncoder\n",
    "\n",
    "le = LabelEncoder()\n",
    "le.fit(df.Position)\n",
    "df['Label'] = le.transform(df.Position)"
   ]
  },
  {
   "cell_type": "code",
   "execution_count": 841,
   "metadata": {},
   "outputs": [
    {
     "data": {
      "text/html": [
       "<div>\n",
       "<style scoped>\n",
       "    .dataframe tbody tr th:only-of-type {\n",
       "        vertical-align: middle;\n",
       "    }\n",
       "\n",
       "    .dataframe tbody tr th {\n",
       "        vertical-align: top;\n",
       "    }\n",
       "\n",
       "    .dataframe thead th {\n",
       "        text-align: right;\n",
       "    }\n",
       "</style>\n",
       "<table border=\"1\" class=\"dataframe\">\n",
       "  <thead>\n",
       "    <tr style=\"text-align: right;\">\n",
       "      <th></th>\n",
       "      <th>Age</th>\n",
       "      <th>Height</th>\n",
       "      <th>Weight</th>\n",
       "      <th>Corners</th>\n",
       "      <th>Crossing</th>\n",
       "      <th>Dribbling</th>\n",
       "      <th>Finishing</th>\n",
       "      <th>FirstTouch</th>\n",
       "      <th>Freekicks</th>\n",
       "      <th>Heading</th>\n",
       "      <th>...</th>\n",
       "      <th>Balance</th>\n",
       "      <th>Jumping</th>\n",
       "      <th>LeftFoot</th>\n",
       "      <th>NaturalFitness</th>\n",
       "      <th>Pace</th>\n",
       "      <th>RightFoot</th>\n",
       "      <th>Stamina</th>\n",
       "      <th>Strength</th>\n",
       "      <th>Position</th>\n",
       "      <th>Label</th>\n",
       "    </tr>\n",
       "  </thead>\n",
       "  <tbody>\n",
       "    <tr>\n",
       "      <th>1</th>\n",
       "      <td>34</td>\n",
       "      <td>183</td>\n",
       "      <td>70</td>\n",
       "      <td>3</td>\n",
       "      <td>3</td>\n",
       "      <td>2</td>\n",
       "      <td>4</td>\n",
       "      <td>10</td>\n",
       "      <td>3</td>\n",
       "      <td>1</td>\n",
       "      <td>...</td>\n",
       "      <td>4</td>\n",
       "      <td>8</td>\n",
       "      <td>5</td>\n",
       "      <td>8</td>\n",
       "      <td>6</td>\n",
       "      <td>20</td>\n",
       "      <td>4</td>\n",
       "      <td>9</td>\n",
       "      <td>MidfielderCentral</td>\n",
       "      <td>6</td>\n",
       "    </tr>\n",
       "    <tr>\n",
       "      <th>2</th>\n",
       "      <td>31</td>\n",
       "      <td>170</td>\n",
       "      <td>65</td>\n",
       "      <td>3</td>\n",
       "      <td>2</td>\n",
       "      <td>6</td>\n",
       "      <td>7</td>\n",
       "      <td>9</td>\n",
       "      <td>3</td>\n",
       "      <td>13</td>\n",
       "      <td>...</td>\n",
       "      <td>2</td>\n",
       "      <td>6</td>\n",
       "      <td>2</td>\n",
       "      <td>8</td>\n",
       "      <td>7</td>\n",
       "      <td>20</td>\n",
       "      <td>6</td>\n",
       "      <td>6</td>\n",
       "      <td>Striker</td>\n",
       "      <td>9</td>\n",
       "    </tr>\n",
       "    <tr>\n",
       "      <th>3</th>\n",
       "      <td>33</td>\n",
       "      <td>181</td>\n",
       "      <td>70</td>\n",
       "      <td>1</td>\n",
       "      <td>1</td>\n",
       "      <td>2</td>\n",
       "      <td>12</td>\n",
       "      <td>5</td>\n",
       "      <td>1</td>\n",
       "      <td>12</td>\n",
       "      <td>...</td>\n",
       "      <td>2</td>\n",
       "      <td>6</td>\n",
       "      <td>5</td>\n",
       "      <td>5</td>\n",
       "      <td>8</td>\n",
       "      <td>20</td>\n",
       "      <td>2</td>\n",
       "      <td>5</td>\n",
       "      <td>Striker</td>\n",
       "      <td>9</td>\n",
       "    </tr>\n",
       "    <tr>\n",
       "      <th>4</th>\n",
       "      <td>31</td>\n",
       "      <td>175</td>\n",
       "      <td>68</td>\n",
       "      <td>3</td>\n",
       "      <td>5</td>\n",
       "      <td>4</td>\n",
       "      <td>1</td>\n",
       "      <td>7</td>\n",
       "      <td>1</td>\n",
       "      <td>2</td>\n",
       "      <td>...</td>\n",
       "      <td>2</td>\n",
       "      <td>7</td>\n",
       "      <td>5</td>\n",
       "      <td>9</td>\n",
       "      <td>9</td>\n",
       "      <td>20</td>\n",
       "      <td>11</td>\n",
       "      <td>7</td>\n",
       "      <td>DefenderRight</td>\n",
       "      <td>5</td>\n",
       "    </tr>\n",
       "    <tr>\n",
       "      <th>5</th>\n",
       "      <td>32</td>\n",
       "      <td>176</td>\n",
       "      <td>72</td>\n",
       "      <td>9</td>\n",
       "      <td>11</td>\n",
       "      <td>11</td>\n",
       "      <td>6</td>\n",
       "      <td>12</td>\n",
       "      <td>7</td>\n",
       "      <td>7</td>\n",
       "      <td>...</td>\n",
       "      <td>12</td>\n",
       "      <td>6</td>\n",
       "      <td>9</td>\n",
       "      <td>12</td>\n",
       "      <td>8</td>\n",
       "      <td>20</td>\n",
       "      <td>13</td>\n",
       "      <td>8</td>\n",
       "      <td>MidfielderCentral</td>\n",
       "      <td>6</td>\n",
       "    </tr>\n",
       "  </tbody>\n",
       "</table>\n",
       "<p>5 rows × 43 columns</p>\n",
       "</div>"
      ],
      "text/plain": [
       "   Age  Height  Weight  Corners  Crossing  Dribbling  Finishing  FirstTouch  \\\n",
       "1   34     183      70        3         3          2          4          10   \n",
       "2   31     170      65        3         2          6          7           9   \n",
       "3   33     181      70        1         1          2         12           5   \n",
       "4   31     175      68        3         5          4          1           7   \n",
       "5   32     176      72        9        11         11          6          12   \n",
       "\n",
       "   Freekicks  Heading  ...  Balance  Jumping  LeftFoot  NaturalFitness  Pace  \\\n",
       "1          3        1  ...        4        8         5               8     6   \n",
       "2          3       13  ...        2        6         2               8     7   \n",
       "3          1       12  ...        2        6         5               5     8   \n",
       "4          1        2  ...        2        7         5               9     9   \n",
       "5          7        7  ...       12        6         9              12     8   \n",
       "\n",
       "   RightFoot  Stamina  Strength           Position  Label  \n",
       "1         20        4         9  MidfielderCentral      6  \n",
       "2         20        6         6            Striker      9  \n",
       "3         20        2         5            Striker      9  \n",
       "4         20       11         7      DefenderRight      5  \n",
       "5         20       13         8  MidfielderCentral      6  \n",
       "\n",
       "[5 rows x 43 columns]"
      ]
     },
     "execution_count": 841,
     "metadata": {},
     "output_type": "execute_result"
    }
   ],
   "source": [
    "df.head()"
   ]
  },
  {
   "cell_type": "code",
   "execution_count": 840,
   "metadata": {},
   "outputs": [
    {
     "data": {
      "text/plain": [
       "0"
      ]
     },
     "execution_count": 840,
     "metadata": {},
     "output_type": "execute_result"
    }
   ],
   "source": [
    "np.sum(df.isnull().sum())"
   ]
  },
  {
   "cell_type": "code",
   "execution_count": 842,
   "metadata": {},
   "outputs": [],
   "source": [
    "X = df.drop(['Position', 'Label'], axis=1).values\n",
    "y = df['Label'].values"
   ]
  },
  {
   "cell_type": "code",
   "execution_count": 843,
   "metadata": {},
   "outputs": [],
   "source": [
    "X_train, X_test, y_train, y_test = train_test_split(X, y, test_size=0.30, random_state=101)"
   ]
  },
  {
   "cell_type": "code",
   "execution_count": 844,
   "metadata": {},
   "outputs": [],
   "source": [
    "scaler = MinMaxScaler()"
   ]
  },
  {
   "cell_type": "code",
   "execution_count": 845,
   "metadata": {},
   "outputs": [],
   "source": [
    "X_train = scaler.fit_transform(X_train)\n",
    "X_test = scaler.transform(X_test)"
   ]
  },
  {
   "cell_type": "code",
   "execution_count": 846,
   "metadata": {},
   "outputs": [],
   "source": [
    "model = Sequential()\n",
    "\n",
    "model.add(Dense(66, activation='relu'))\n",
    "model.add(Dropout(0.2))\n",
    "\n",
    "model.add(Dense(32, activation='relu'))\n",
    "model.add(Dropout(0.2))\n",
    "\n",
    "model.add(Dense(10, activation='softmax'))\n",
    "\n",
    "model.compile(optimizer='adam', loss='sparse_categorical_crossentropy')"
   ]
  },
  {
   "cell_type": "code",
   "execution_count": 847,
   "metadata": {},
   "outputs": [
    {
     "name": "stdout",
     "output_type": "stream",
     "text": [
      "Epoch 1/50\n",
      "345/345 [==============================] - 2s 4ms/step - loss: 1.3865 - val_loss: 0.8391\n",
      "Epoch 2/50\n",
      "345/345 [==============================] - 1s 3ms/step - loss: 0.8813 - val_loss: 0.7494\n",
      "Epoch 3/50\n",
      "345/345 [==============================] - 1s 3ms/step - loss: 0.8208 - val_loss: 0.7237\n",
      "Epoch 4/50\n",
      "345/345 [==============================] - 1s 3ms/step - loss: 0.7904 - val_loss: 0.7161\n",
      "Epoch 5/50\n",
      "345/345 [==============================] - 1s 3ms/step - loss: 0.7776 - val_loss: 0.7046\n",
      "Epoch 6/50\n",
      "345/345 [==============================] - 1s 4ms/step - loss: 0.7653 - val_loss: 0.7041\n",
      "Epoch 7/50\n",
      "345/345 [==============================] - 1s 3ms/step - loss: 0.7561 - val_loss: 0.6942\n",
      "Epoch 8/50\n",
      "345/345 [==============================] - 1s 3ms/step - loss: 0.7487 - val_loss: 0.6897\n",
      "Epoch 9/50\n",
      "345/345 [==============================] - 1s 3ms/step - loss: 0.7441 - val_loss: 0.6892\n",
      "Epoch 10/50\n",
      "345/345 [==============================] - ETA: 0s - loss: 0.738 - 1s 3ms/step - loss: 0.7384 - val_loss: 0.6840\n",
      "Epoch 11/50\n",
      "345/345 [==============================] - ETA: 0s - loss: 0.736 - 1s 3ms/step - loss: 0.7362 - val_loss: 0.6863\n",
      "Epoch 12/50\n",
      "345/345 [==============================] - 1s 4ms/step - loss: 0.7332 - val_loss: 0.6862\n",
      "Epoch 13/50\n",
      "345/345 [==============================] - 1s 3ms/step - loss: 0.7304 - val_loss: 0.6820\n",
      "Epoch 14/50\n",
      "345/345 [==============================] - 1s 3ms/step - loss: 0.7272 - val_loss: 0.6795\n",
      "Epoch 15/50\n",
      "345/345 [==============================] - 1s 3ms/step - loss: 0.7242 - val_loss: 0.6798\n",
      "Epoch 16/50\n",
      "345/345 [==============================] - 1s 3ms/step - loss: 0.7209 - val_loss: 0.6767\n",
      "Epoch 17/50\n",
      "345/345 [==============================] - 1s 3ms/step - loss: 0.7197 - val_loss: 0.6750\n",
      "Epoch 18/50\n",
      "345/345 [==============================] - 1s 3ms/step - loss: 0.7148 - val_loss: 0.6763\n",
      "Epoch 19/50\n",
      "345/345 [==============================] - 1s 3ms/step - loss: 0.7140 - val_loss: 0.6722\n",
      "Epoch 20/50\n",
      "345/345 [==============================] - 1s 3ms/step - loss: 0.7133 - val_loss: 0.6692\n",
      "Epoch 21/50\n",
      "345/345 [==============================] - 1s 3ms/step - loss: 0.7110 - val_loss: 0.6707\n",
      "Epoch 22/50\n",
      "345/345 [==============================] - 1s 3ms/step - loss: 0.7115 - val_loss: 0.6674\n",
      "Epoch 23/50\n",
      "345/345 [==============================] - 1s 4ms/step - loss: 0.7065 - val_loss: 0.6677\n",
      "Epoch 24/50\n",
      "345/345 [==============================] - 1s 3ms/step - loss: 0.7060 - val_loss: 0.6725\n",
      "Epoch 25/50\n",
      "345/345 [==============================] - 1s 3ms/step - loss: 0.7060 - val_loss: 0.6649\n",
      "Epoch 26/50\n",
      "345/345 [==============================] - 1s 3ms/step - loss: 0.7056 - val_loss: 0.6674\n",
      "Epoch 27/50\n",
      "345/345 [==============================] - 1s 3ms/step - loss: 0.7046 - val_loss: 0.6669\n",
      "Epoch 28/50\n",
      "345/345 [==============================] - 1s 3ms/step - loss: 0.7030 - val_loss: 0.6681\n",
      "Epoch 29/50\n",
      "345/345 [==============================] - 1s 4ms/step - loss: 0.7004 - val_loss: 0.6654\n",
      "Epoch 30/50\n",
      "345/345 [==============================] - 1s 3ms/step - loss: 0.7007 - val_loss: 0.6654\n",
      "Epoch 31/50\n",
      "345/345 [==============================] - 1s 3ms/step - loss: 0.7006 - val_loss: 0.6627\n",
      "Epoch 32/50\n",
      "345/345 [==============================] - 1s 3ms/step - loss: 0.7008 - val_loss: 0.6631\n",
      "Epoch 33/50\n",
      "345/345 [==============================] - 1s 3ms/step - loss: 0.6991 - val_loss: 0.6597\n",
      "Epoch 34/50\n",
      "345/345 [==============================] - 1s 3ms/step - loss: 0.6972 - val_loss: 0.6599\n",
      "Epoch 35/50\n",
      "345/345 [==============================] - 1s 4ms/step - loss: 0.6961 - val_loss: 0.6634\n",
      "Epoch 36/50\n",
      "345/345 [==============================] - 1s 3ms/step - loss: 0.6966 - val_loss: 0.6587\n",
      "Epoch 37/50\n",
      "345/345 [==============================] - 1s 3ms/step - loss: 0.6952 - val_loss: 0.6594\n",
      "Epoch 38/50\n",
      "345/345 [==============================] - 1s 3ms/step - loss: 0.6945 - val_loss: 0.6595\n",
      "Epoch 39/50\n",
      "345/345 [==============================] - 1s 3ms/step - loss: 0.6955 - val_loss: 0.6600\n",
      "Epoch 40/50\n",
      "345/345 [==============================] - 1s 4ms/step - loss: 0.6939 - val_loss: 0.6565\n",
      "Epoch 41/50\n",
      "345/345 [==============================] - 1s 3ms/step - loss: 0.6943 - val_loss: 0.6569\n",
      "Epoch 42/50\n",
      "345/345 [==============================] - 1s 3ms/step - loss: 0.6934 - val_loss: 0.6556\n",
      "Epoch 43/50\n",
      "345/345 [==============================] - 1s 3ms/step - loss: 0.6925 - val_loss: 0.6568\n",
      "Epoch 44/50\n",
      "345/345 [==============================] - 1s 3ms/step - loss: 0.6929 - val_loss: 0.6578\n",
      "Epoch 45/50\n",
      "345/345 [==============================] - 1s 3ms/step - loss: 0.6922 - val_loss: 0.6610\n",
      "Epoch 46/50\n",
      "345/345 [==============================] - 1s 3ms/step - loss: 0.6914 - val_loss: 0.6592\n",
      "Epoch 47/50\n",
      "345/345 [==============================] - 1s 3ms/step - loss: 0.6899 - val_loss: 0.6566\n",
      "Epoch 48/50\n",
      "345/345 [==============================] - 1s 3ms/step - loss: 0.6890 - val_loss: 0.6543\n",
      "Epoch 49/50\n",
      "345/345 [==============================] - 1s 3ms/step - loss: 0.6894 - val_loss: 0.6549\n",
      "Epoch 50/50\n",
      "345/345 [==============================] - 1s 3ms/step - loss: 0.6902 - val_loss: 0.6548\n"
     ]
    },
    {
     "data": {
      "text/plain": [
       "<tensorflow.python.keras.callbacks.History at 0x22dc3c0f6d8>"
      ]
     },
     "execution_count": 847,
     "metadata": {},
     "output_type": "execute_result"
    }
   ],
   "source": [
    "model.fit(x=X_train, y=y_train, validation_data=(X_test, y_test), batch_size=256, epochs=50)"
   ]
  },
  {
   "cell_type": "code",
   "execution_count": 848,
   "metadata": {},
   "outputs": [
    {
     "data": {
      "text/plain": [
       "<matplotlib.axes._subplots.AxesSubplot at 0x22d96f01438>"
      ]
     },
     "execution_count": 848,
     "metadata": {},
     "output_type": "execute_result"
    },
    {
     "data": {
      "image/png": "[encoded data removed]",
      "text/plain": [
       "<Figure size 432x288 with 1 Axes>"
      ]
     },
     "metadata": {
      "needs_background": "light"
     },
     "output_type": "display_data"
    }
   ],
   "source": [
    "model_loss = pd.DataFrame(model.history.history)\n",
    "model_loss[['loss', 'val_loss']].plot()"
   ]
  },
  {
   "cell_type": "code",
   "execution_count": 854,
   "metadata": {},
   "outputs": [],
   "source": [
    "from sklearn.metrics import confusion_matrix, classification_report"
   ]
  },
  {
   "cell_type": "code",
   "execution_count": 855,
   "metadata": {},
   "outputs": [
    {
     "name": "stdout",
     "output_type": "stream",
     "text": [
      "              precision    recall  f1-score   support\n",
      "\n",
      "           0       0.59      0.60      0.60      3131\n",
      "           1       0.52      0.43      0.47      1919\n",
      "           2       0.48      0.59      0.53      2138\n",
      "           3       0.90      0.89      0.90      7101\n",
      "           4       0.80      0.84      0.82      3044\n",
      "           5       0.75      0.77      0.76      3122\n",
      "           6       0.81      0.83      0.82      7910\n",
      "           7       0.67      0.23      0.34       952\n",
      "           8       0.55      0.27      0.37      1060\n",
      "           9       0.86      0.92      0.89      7380\n",
      "\n",
      "    accuracy                           0.77     37757\n",
      "   macro avg       0.69      0.64      0.65     37757\n",
      "weighted avg       0.77      0.77      0.76     37757\n",
      "\n"
     ]
    }
   ],
   "source": [
    "predictions = model.predict_classes(X_test)\n",
    "print(classification_report(y_test, predictions))"
   ]
  },
  {
   "cell_type": "code",
   "execution_count": 852,
   "metadata": {},
   "outputs": [
    {
     "data": {
      "text/plain": [
       "array([[1889,  137,  242,    2,   13,    8,  442,    5,   17,  376],\n",
       "       [ 229,  830,  403,    0,   82,   13,   58,   53,   19,  232],\n",
       "       [ 213,  122, 1257,    1,    8,   59,   69,    2,   62,  345],\n",
       "       [   3,    0,    1, 6328,  207,  216,  331,    0,    1,   14],\n",
       "       [   3,   72,    4,  104, 2563,  178,   93,   15,    3,    9],\n",
       "       [  10,    2,   58,  274,   49, 2412,  269,    1,   29,   18],\n",
       "       [ 527,   34,   64,  297,  119,  190, 6533,   25,   46,   75],\n",
       "       [  47,  297,   57,    0,  160,   16,   80,  220,   57,   18],\n",
       "       [  77,   14,  347,    4,   10,  126,  144,    8,  290,   40],\n",
       "       [ 182,   92,  198,   18,    9,   14,   78,    0,    2, 6787]],\n",
       "      dtype=int64)"
      ]
     },
     "execution_count": 852,
     "metadata": {},
     "output_type": "execute_result"
    }
   ],
   "source": [
    "confusion_matrix(y_test, predictions)"
   ]
  },
  {
   "cell_type": "code",
   "execution_count": 869,
   "metadata": {},
   "outputs": [
    {
     "data": {
      "text/plain": [
       "array([3], dtype=int64)"
      ]
     },
     "execution_count": 869,
     "metadata": {},
     "output_type": "execute_result"
    }
   ],
   "source": [
    "import random\n",
    "random.seed(1)\n",
    "random_ind = random.randint(0, len(df))\n",
    "\n",
    "new_customer = df.drop(['Position', 'Label'], axis=1).loc[random_ind]\n",
    "model.predict_classes(new_customer.values.reshape(1, 41))\n"
   ]
  },
  {
   "cell_type": "code",
   "execution_count": 870,
   "metadata": {},
   "outputs": [
    {
     "data": {
      "text/plain": [
       "Position    AttackingMidRight\n",
       "Label                       2\n",
       "Name: 17611, dtype: object"
      ]
     },
     "execution_count": 870,
     "metadata": {},
     "output_type": "execute_result"
    }
   ],
   "source": [
    "df.loc[random_ind , ['Position', 'Label']]\n"
   ]
  },
  {
   "cell_type": "code",
   "execution_count": 872,
   "metadata": {},
   "outputs": [
    {
     "data": {
      "text/plain": [
       "['AttackingMidCentral',\n",
       " 'AttackingMidLeft',\n",
       " 'AttackingMidRight',\n",
       " 'DefenderCentral',\n",
       " 'DefenderLeft',\n",
       " 'DefenderRight',\n",
       " 'MidfielderCentral',\n",
       " 'MidfielderLeft',\n",
       " 'MidfielderRight',\n",
       " 'Striker']"
      ]
     },
     "execution_count": 872,
     "metadata": {},
     "output_type": "execute_result"
    }
   ],
   "source": [
    "sorted(pos_list)\n"
   ]
  },
  {
   "cell_type": "code",
   "execution_count": null,
   "metadata": {},
   "outputs": [],
   "source": []
  },
  {
   "cell_type": "code",
   "execution_count": null,
   "metadata": {},
   "outputs": [],
   "source": []
  },
  {
   "cell_type": "code",
   "execution_count": null,
   "metadata": {},
   "outputs": [],
   "source": []
  }
 ],
 "metadata": {
  "kernelspec": {
   "display_name": "Python 3",
   "language": "python",
   "name": "python3"
  },
  "language_info": {
   "codemirror_mode": {
    "name": "ipython",
    "version": 3
   },
   "file_extension": ".py",
   "mimetype": "text/x-python",
   "name": "python",
   "nbconvert_exporter": "python",
   "pygments_lexer": "ipython3",
   "version": "3.7.3"
  }
 },
 "nbformat": 4,
 "nbformat_minor": 2
}
